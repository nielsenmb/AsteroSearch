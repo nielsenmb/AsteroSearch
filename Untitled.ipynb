{
 "cells": [
  {
   "cell_type": "code",
   "execution_count": 1,
   "metadata": {},
   "outputs": [
    {
     "name": "stderr",
     "output_type": "stream",
     "text": [
      "WARNING: AstropyDeprecationWarning: astropy.extern.six will be removed in 4.0, use the six module directly if it is still needed [astropy.extern.six]\n"
     ]
    }
   ],
   "source": [
    "import astropy.units as u\n",
    "import time\n",
    "import numpy as np\n",
    "import pandas as pd\n",
    "from astropy.table import Table \n",
    "from astropy.table import vstack as avstack\n",
    "from astroquery.vizier import Vizier\n",
    "from astroquery.mast import Catalogs\n",
    "from astroquery.simbad import Simbad\n",
    "Simbad.add_votable_fields('sptype', 'ids')"
   ]
  },
  {
   "cell_type": "code",
   "execution_count": null,
   "metadata": {},
   "outputs": [],
   "source": [
    "def query_KIC(self, ID = None, radius = 10.0*u.arcsec):\n",
    "    import warnings\n",
    "    from astropy.utils.metadata import MergeConflictWarning\n",
    "    warnings.filterwarnings(\"ignore\", category = MergeConflictWarning)\n",
    "\n",
    "    if not ID:\n",
    "        ID = a.IDs['KIC']\n",
    "\n",
    "    tbl = Table(names = ('KIC',), dtype = (int,))\n",
    "    for i, id in enumerate(ID):\n",
    "        if not isinstance(id, str):\n",
    "            add_empty_row(tbl)\n",
    "        else:\n",
    "            job = Vizier.query_object(object_name = id, catalog = 'V/133/kic', radius = 10.0*u.arcsec)\n",
    "\n",
    "            if len(job) == 0:\n",
    "                add_empty_row(tbl)\n",
    "            else:\n",
    "                tbl = avstack([tbl, job[0]])      \n",
    "                \n",
    "    self.KIC = tbl\n",
    "    return self.KIC"
   ]
  },
  {
   "cell_type": "code",
   "execution_count": null,
   "metadata": {},
   "outputs": [],
   "source": [
    "def query_TWOMASS(self, ID = None, radius = 10.0*u.arcsec):\n",
    "    #import warnings\n",
    "    #from astropy.utils.metadata import MergeConflictWarning\n",
    "    #warnings.filterwarnings(\"ignore\", category = MergeConflictWarning)\n",
    "\n",
    "    if not ID:\n",
    "        ID = a.IDs['2MASS']\n",
    "\n",
    "    tbl = Table(names = ('_2MASS',), dtype = (int,))\n",
    "    for i, id in enumerate(ID):\n",
    "        if not isinstance(id, str):\n",
    "            add_empty_row(tbl)\n",
    "        else:\n",
    "            job = Vizier.query_object(object_name = id, catalog = 'II/246/out', radius = 10.0*u.arcsec)\n",
    "\n",
    "            add_to_table(job, tbl, '_2MASS')\n",
    "                \n",
    "    self.TWOMASS = tbl\n",
    "    return self.TWOMASS\n",
    "\n",
    "def add_to_table(job, tbl, identifier):\n",
    "    if len(job) == 0:\n",
    "        add_empty_row(tbl)\n",
    "    else:\n",
    "        for i, row in enumerate(job[0]):\n",
    "            if row[identifier] in id:\n",
    "                tbl = avstack([tbl, row])\n",
    "                break"
   ]
  },
  {
   "cell_type": "code",
   "execution_count": 9,
   "metadata": {},
   "outputs": [],
   "source": [
    "twomassjob = Vizier.query_object(object_name = '2MASS J05065012+5236338', catalog = 'II/246/out', radius = 10.0*u.arcsec)"
   ]
  },
  {
   "cell_type": "code",
   "execution_count": null,
   "metadata": {},
   "outputs": [],
   "source": [
    "ticjob = Catalogs.query_object(\"TIC 141411201\", radius=10.0*u.arcsec, catalog=\"TIC\",  objType='STAR')"
   ]
  },
  {
   "cell_type": "code",
   "execution_count": 4,
   "metadata": {},
   "outputs": [],
   "source": [
    "TYC2job = Vizier.query_object(object_name = 'TYC 3130-722-1', catalog = 'I/259/tyc2', radius = 10.0*u.arcsec)\n"
   ]
  },
  {
   "cell_type": "code",
   "execution_count": 11,
   "metadata": {},
   "outputs": [],
   "source": [
    "allwisejob = Vizier.query_object(object_name = 'WISE J050650.20+523631.2', catalog = 'II/328/allwise', radius = 10.0*u.arcsec)\n"
   ]
  },
  {
   "cell_type": "code",
   "execution_count": 16,
   "metadata": {},
   "outputs": [
    {
     "data": {
      "text/html": [
       "<i>Table masked=True length=2</i>\n",
       "<table id=\"table140376248415888\" class=\"table-striped table-bordered table-condensed\">\n",
       "<thead><tr><th>RAJ2000</th><th>DEJ2000</th><th>_2MASS</th><th>Jmag</th><th>e_Jmag</th><th>Hmag</th><th>e_Hmag</th><th>Kmag</th><th>e_Kmag</th><th>Qflg</th><th>Rflg</th><th>Bflg</th><th>Cflg</th><th>Xflg</th><th>Aflg</th></tr></thead>\n",
       "<thead><tr><th>deg</th><th>deg</th><th></th><th>mag</th><th>mag</th><th>mag</th><th>mag</th><th>mag</th><th>mag</th><th></th><th></th><th></th><th></th><th></th><th></th></tr></thead>\n",
       "<thead><tr><th>float64</th><th>float64</th><th>bytes17</th><th>float32</th><th>float32</th><th>float32</th><th>float32</th><th>float32</th><th>float32</th><th>bytes3</th><th>bytes3</th><th>bytes3</th><th>bytes3</th><th>uint8</th><th>uint8</th></tr></thead>\n",
       "<tr><td>76.710025</td><td>52.606792</td><td>05065040+5236244</td><td>16.547</td><td>0.141</td><td>16.238</td><td>0.207</td><td>15.703</td><td>--</td><td>BCU</td><td>220</td><td>110</td><td>000</td><td>0</td><td>0</td></tr>\n",
       "<tr><td>76.708848</td><td>52.609409</td><td>05065012+5236338</td><td>15.746</td><td>0.071</td><td>15.354</td><td>0.106</td><td>15.596</td><td>0.199</td><td>AAC</td><td>222</td><td>111</td><td>000</td><td>0</td><td>0</td></tr>\n",
       "</table>"
      ],
      "text/plain": [
       "<Table masked=True length=2>\n",
       " RAJ2000    DEJ2000        _2MASS        Jmag  ...  Bflg   Cflg   Xflg  Aflg\n",
       "   deg        deg                        mag   ...                          \n",
       " float64    float64       bytes17      float32 ... bytes3 bytes3 uint8 uint8\n",
       "---------- ---------- ---------------- ------- ... ------ ------ ----- -----\n",
       " 76.710025  52.606792 05065040+5236244  16.547 ...    110    000     0     0\n",
       " 76.708848  52.609409 05065012+5236338  15.746 ...    111    000     0     0"
      ]
     },
     "execution_count": 16,
     "metadata": {},
     "output_type": "execute_result"
    }
   ],
   "source": [
    "twomassjob[0]"
   ]
  },
  {
   "cell_type": "code",
   "execution_count": 21,
   "metadata": {},
   "outputs": [
    {
     "ename": "TypeError",
     "evalue": "'in <string>' requires string as left operand, not MaskedColumn",
     "output_type": "error",
     "traceback": [
      "\u001b[0;31m---------------------------------------------------------------------------\u001b[0m",
      "\u001b[0;31mTypeError\u001b[0m                                 Traceback (most recent call last)",
      "\u001b[0;32m<ipython-input-21-14fe43e84b29>\u001b[0m in \u001b[0;36m<module>\u001b[0;34m\u001b[0m\n\u001b[0;32m----> 1\u001b[0;31m \u001b[0mnp\u001b[0m\u001b[0;34m.\u001b[0m\u001b[0mwhere\u001b[0m\u001b[0;34m(\u001b[0m\u001b[0mtwomassjob\u001b[0m\u001b[0;34m[\u001b[0m\u001b[0;36m0\u001b[0m\u001b[0;34m]\u001b[0m\u001b[0;34m[\u001b[0m\u001b[0;34m'_2MASS'\u001b[0m\u001b[0;34m]\u001b[0m \u001b[0;32min\u001b[0m \u001b[0;34m'2MASS J05065012+5236338'\u001b[0m\u001b[0;34m)\u001b[0m\u001b[0;34m\u001b[0m\u001b[0;34m\u001b[0m\u001b[0m\n\u001b[0m",
      "\u001b[0;31mTypeError\u001b[0m: 'in <string>' requires string as left operand, not MaskedColumn"
     ]
    }
   ],
   "source": [
    "np.where(twomassjob[0]['_2MASS'] in '2MASS J05065012+5236338')"
   ]
  },
  {
   "cell_type": "code",
   "execution_count": 23,
   "metadata": {},
   "outputs": [
    {
     "name": "stdout",
     "output_type": "stream",
     "text": [
      "05065012+5236338\n"
     ]
    }
   ],
   "source": [
    "for entry in twomassjob[0]['_2MASS']:\n",
    "    if entry in '2MASS J05065012+5236338':\n",
    "        print( entry)"
   ]
  },
  {
   "cell_type": "code",
   "execution_count": 35,
   "metadata": {},
   "outputs": [
    {
     "name": "stdout",
     "output_type": "stream",
     "text": [
      "1  RAJ2000    DEJ2000        _2MASS       Jmag  e_Jmag  Hmag  e_Hmag  Kmag  e_Kmag Qflg Rflg Bflg Cflg Xflg Aflg\n",
      "   deg        deg                       mag    mag    mag    mag    mag    mag                                \n",
      "---------- ---------- ---------------- ------ ------ ------ ------ ------ ------ ---- ---- ---- ---- ---- ----\n",
      " 76.708848  52.609409 05065012+5236338 15.746  0.071 15.354  0.106 15.596  0.199  AAC  222  111  000    0    0\n"
     ]
    }
   ],
   "source": [
    "for i, entry in enumerate(twomassjob[0]):\n",
    "    if  entry['_2MASS'] in '2MASS J05065012+5236338':\n",
    "        print(i,entry)"
   ]
  },
  {
   "cell_type": "code",
   "execution_count": 33,
   "metadata": {},
   "outputs": [
    {
     "data": {
      "text/plain": [
       "['05065012+5236338']"
      ]
     },
     "execution_count": 33,
     "metadata": {},
     "output_type": "execute_result"
    }
   ],
   "source": [
    "row"
   ]
  },
  {
   "cell_type": "code",
   "execution_count": 37,
   "metadata": {},
   "outputs": [],
   "source": [
    "class a():\n",
    "    def __init__(self):\n",
    "        sefl.TWOMASS = 1"
   ]
  },
  {
   "cell_type": "code",
   "execution_count": null,
   "metadata": {},
   "outputs": [],
   "source": []
  }
 ],
 "metadata": {
  "kernelspec": {
   "display_name": "Python 3",
   "language": "python",
   "name": "python3"
  },
  "language_info": {
   "codemirror_mode": {
    "name": "ipython",
    "version": 3
   },
   "file_extension": ".py",
   "mimetype": "text/x-python",
   "name": "python",
   "nbconvert_exporter": "python",
   "pygments_lexer": "ipython3",
   "version": "3.7.4"
  }
 },
 "nbformat": 4,
 "nbformat_minor": 2
}
