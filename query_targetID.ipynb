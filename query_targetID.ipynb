{
 "cells": [
  {
   "cell_type": "code",
   "execution_count": 1,
   "metadata": {},
   "outputs": [],
   "source": [
    "from asterosearch.search import search\n",
    "from astroquery.vizier import Vizier\n",
    "from numpy import *\n",
    "import astropy.units as u\n",
    "from astropy.table import Table, join\n",
    "from astroquery.simbad import Simbad"
   ]
  },
  {
   "cell_type": "code",
   "execution_count": 2,
   "metadata": {},
   "outputs": [],
   "source": [
    "s = search('TIC 286923464')"
   ]
  },
  {
   "cell_type": "code",
   "execution_count": 3,
   "metadata": {},
   "outputs": [
    {
     "name": "stdout",
     "output_type": "stream",
     "text": [
      "Unable to find any of the targets with Simbad\n"
     ]
    },
    {
     "name": "stderr",
     "output_type": "stream",
     "text": [
      "/home/nielsemb/anaconda3/lib/python3.7/site-packages/astroquery-0.3.10-py3.7.egg/astroquery/simbad/core.py:138: UserWarning: Warning: The script line number 3 raised an error (recorded in the `errors` attribute of the result table): Identifier not found in the database : TIC 286923464\n",
      "  (error.line, error.msg))\n"
     ]
    }
   ],
   "source": [
    "s.query_simbad()"
   ]
  },
  {
   "cell_type": "code",
   "execution_count": 4,
   "metadata": {},
   "outputs": [
    {
     "data": {
      "text/html": [
       "<div>\n",
       "<style scoped>\n",
       "    .dataframe tbody tr th:only-of-type {\n",
       "        vertical-align: middle;\n",
       "    }\n",
       "\n",
       "    .dataframe tbody tr th {\n",
       "        vertical-align: top;\n",
       "    }\n",
       "\n",
       "    .dataframe thead th {\n",
       "        text-align: right;\n",
       "    }\n",
       "</style>\n",
       "<table border=\"1\" class=\"dataframe\">\n",
       "  <thead>\n",
       "    <tr style=\"text-align: right;\">\n",
       "      <th></th>\n",
       "      <th>input</th>\n",
       "      <th>SPOCS</th>\n",
       "      <th>KIC</th>\n",
       "      <th>TIC</th>\n",
       "      <th>EPIC</th>\n",
       "      <th>Gaia DR1</th>\n",
       "      <th>Gaia DR2</th>\n",
       "      <th>HD</th>\n",
       "      <th>HIP</th>\n",
       "      <th>HR</th>\n",
       "      <th>...</th>\n",
       "      <th>BD</th>\n",
       "      <th>AG</th>\n",
       "      <th>GSC</th>\n",
       "      <th>Ci</th>\n",
       "      <th>PLX</th>\n",
       "      <th>SKY#</th>\n",
       "      <th>WISEA</th>\n",
       "      <th>WISE</th>\n",
       "      <th>PSO</th>\n",
       "      <th>ALLWISE</th>\n",
       "    </tr>\n",
       "  </thead>\n",
       "  <tbody>\n",
       "    <tr>\n",
       "      <th>0</th>\n",
       "      <td>TIC 286923464</td>\n",
       "      <td></td>\n",
       "      <td></td>\n",
       "      <td>TIC 286923464</td>\n",
       "      <td></td>\n",
       "      <td></td>\n",
       "      <td></td>\n",
       "      <td></td>\n",
       "      <td></td>\n",
       "      <td></td>\n",
       "      <td>...</td>\n",
       "      <td></td>\n",
       "      <td></td>\n",
       "      <td></td>\n",
       "      <td></td>\n",
       "      <td></td>\n",
       "      <td></td>\n",
       "      <td></td>\n",
       "      <td></td>\n",
       "      <td></td>\n",
       "      <td></td>\n",
       "    </tr>\n",
       "  </tbody>\n",
       "</table>\n",
       "<p>1 rows × 28 columns</p>\n",
       "</div>"
      ],
      "text/plain": [
       "           input SPOCS KIC            TIC EPIC Gaia DR1 Gaia DR2 HD HIP HR  \\\n",
       "0  TIC 286923464            TIC 286923464                                    \n",
       "\n",
       "   ... BD AG GSC Ci PLX SKY# WISEA WISE PSO ALLWISE  \n",
       "0  ...                                               \n",
       "\n",
       "[1 rows x 28 columns]"
      ]
     },
     "execution_count": 4,
     "metadata": {},
     "output_type": "execute_result"
    }
   ],
   "source": [
    "s.IDs"
   ]
  },
  {
   "cell_type": "code",
   "execution_count": 5,
   "metadata": {},
   "outputs": [
    {
     "name": "stderr",
     "output_type": "stream",
     "text": [
      "1it [00:02,  2.45s/it]\n"
     ]
    },
    {
     "data": {
      "text/html": [
       "<i>Table masked=True length=1</i>\n",
       "<table id=\"table139645543872272\" class=\"table-striped table-bordered table-condensed\">\n",
       "<thead><tr><th>ID</th><th>ra</th><th>dec</th><th>pmRA</th><th>pmDEC</th><th>Tmag</th><th>objType</th><th>typeSrc</th><th>version</th><th>HIP</th><th>TYC</th><th>UCAC</th><th>TWOMASS</th><th>SDSS</th><th>ALLWISE</th><th>GAIA</th><th>APASS</th><th>KIC</th><th>POSflag</th><th>e_pmRA</th><th>e_pmDEC</th><th>PMflag</th><th>plx</th><th>e_plx</th><th>PARflag</th><th>gallong</th><th>gallat</th><th>eclong</th><th>eclat</th><th>Bmag</th><th>e_Bmag</th><th>Vmag</th><th>e_Vmag</th><th>umag</th><th>e_umag</th><th>gmag</th><th>e_gmag</th><th>rmag</th><th>e_rmag</th><th>imag</th><th>e_imag</th><th>zmag</th><th>e_zmag</th><th>Jmag</th><th>e_Jmag</th><th>Hmag</th><th>e_Hmag</th><th>Kmag</th><th>e_Kmag</th><th>TWOMflag</th><th>prox</th><th>w1mag</th><th>e_w1mag</th><th>w2mag</th><th>e_w2mag</th><th>w3mag</th><th>e_w3mag</th><th>w4mag</th><th>e_w4mag</th><th>GAIAmag</th><th>e_GAIAmag</th><th>e_Tmag</th><th>TESSflag</th><th>SPFlag</th><th>Teff</th><th>e_Teff</th><th>logg</th><th>e_logg</th><th>MH</th><th>e_MH</th><th>rad</th><th>e_rad</th><th>mass</th><th>e_mass</th><th>rho</th><th>e_rho</th><th>lumclass</th><th>lum</th><th>e_lum</th><th>d</th><th>e_d</th><th>ebv</th><th>e_ebv</th><th>numcont</th><th>contratio</th><th>disposition</th><th>duplicate_id</th><th>priority</th><th>eneg_EBV</th><th>epos_EBV</th><th>EBVflag</th><th>eneg_Mass</th><th>epos_Mass</th><th>eneg_Rad</th><th>epos_Rad</th><th>eneg_rho</th><th>epos_rho</th><th>eneg_logg</th><th>epos_logg</th><th>eneg_lum</th><th>epos_lum</th><th>eneg_dist</th><th>epos_dist</th><th>distflag</th><th>eneg_Teff</th><th>epos_Teff</th><th>TeffFlag</th><th>gaiabp</th><th>e_gaiabp</th><th>gaiarp</th><th>e_gaiarp</th><th>gaiaqflag</th><th>starchareFlag</th><th>VmagFlag</th><th>BmagFlag</th><th>splists</th><th>e_RA</th><th>e_Dec</th><th>RA_orig</th><th>Dec_orig</th><th>e_RA_orig</th><th>e_Dec_orig</th><th>raddflag</th><th>wdflag</th><th>dstArcSec</th></tr></thead>\n",
       "<thead><tr><th>str9</th><th>float64</th><th>float64</th><th>float64</th><th>float64</th><th>float64</th><th>str4</th><th>str7</th><th>str8</th><th>str5</th><th>str12</th><th>str10</th><th>str16</th><th>str1</th><th>str19</th><th>str19</th><th>str8</th><th>str1</th><th>str7</th><th>float64</th><th>float64</th><th>str5</th><th>float64</th><th>float64</th><th>str5</th><th>float64</th><th>float64</th><th>float64</th><th>float64</th><th>float64</th><th>float64</th><th>float64</th><th>float64</th><th>float64</th><th>float64</th><th>float64</th><th>float64</th><th>float64</th><th>float64</th><th>float64</th><th>float64</th><th>float64</th><th>float64</th><th>float64</th><th>float64</th><th>float64</th><th>float64</th><th>float64</th><th>float64</th><th>str19</th><th>float64</th><th>float64</th><th>float64</th><th>float64</th><th>float64</th><th>float64</th><th>float64</th><th>float64</th><th>float64</th><th>float64</th><th>float64</th><th>float64</th><th>str5</th><th>str5</th><th>float64</th><th>float64</th><th>float64</th><th>float64</th><th>float64</th><th>float64</th><th>float64</th><th>float64</th><th>float64</th><th>float64</th><th>float64</th><th>float64</th><th>str5</th><th>float64</th><th>float64</th><th>float64</th><th>float64</th><th>float64</th><th>float64</th><th>int64</th><th>float64</th><th>str1</th><th>str1</th><th>float64</th><th>float64</th><th>float64</th><th>str1</th><th>float64</th><th>float64</th><th>float64</th><th>float64</th><th>float64</th><th>float64</th><th>float64</th><th>float64</th><th>float64</th><th>float64</th><th>float64</th><th>float64</th><th>str6</th><th>float64</th><th>float64</th><th>str5</th><th>float64</th><th>float64</th><th>float64</th><th>float64</th><th>int64</th><th>str1</th><th>str7</th><th>str8</th><th>str1</th><th>float64</th><th>float64</th><th>float64</th><th>float64</th><th>float64</th><th>float64</th><th>int64</th><th>int64</th><th>float64</th></tr></thead>\n",
       "<tr><td>286923464</td><td>203.510580962787</td><td>53.7285273245698</td><td>-85.8766</td><td>-78.9132</td><td>7.4556</td><td>STAR</td><td>tmgaia2</td><td>20190415</td><td>66192</td><td>3850-00458-1</td><td>719-052573</td><td>13340254+5343426</td><td>--</td><td>J133402.43+534341.8</td><td>1560420854826284928</td><td>56242913</td><td>--</td><td>tmgaia2</td><td>0.0522685</td><td>0.0380336</td><td>gaia2</td><td>10.8102</td><td>0.0274972</td><td>gaia2</td><td>109.344293396664</td><td>62.2614278140703</td><td>169.130792530624</td><td>56.4674887153657</td><td>8.746</td><td>0.025</td><td>8.05</td><td>0.03</td><td>nan</td><td>nan</td><td>nan</td><td>nan</td><td>nan</td><td>nan</td><td>nan</td><td>nan</td><td>nan</td><td>nan</td><td>6.861</td><td>0.021</td><td>6.608</td><td>0.038</td><td>6.543</td><td>0.023</td><td>AAA-111-111-000-0-0</td><td>nan</td><td>6.472</td><td>0.078</td><td>6.45</td><td>0.023</td><td>6.501</td><td>0.016</td><td>6.438</td><td>0.054</td><td>7.89255</td><td>0.00031</td><td>0.006</td><td>gbprp</td><td>spect</td><td>5836.95</td><td>139.793</td><td>3.8353</td><td>0.0828248</td><td>0.211367</td><td>0.0109545</td><td>2.05106</td><td>0.111354</td><td>1.05</td><td>0.136204</td><td>0.121689</td><td>0.0281776</td><td>DWARF</td><td>4.399431</td><td>0.117101</td><td>92.2589</td><td>0.2358</td><td>0.0</td><td>0.0</td><td>35</td><td>0.000262734276</td><td>--</td><td>--</td><td>0.00281675183</td><td>0.0</td><td>0.0</td><td>--</td><td>0.124684</td><td>0.147724</td><td>0.109159</td><td>0.113549</td><td>0.0270011</td><td>0.029354</td><td>0.0885478</td><td>0.0771018</td><td>0.11094</td><td>0.123262</td><td>0.2352</td><td>0.2364</td><td>bj2018</td><td>152.093</td><td>127.493</td><td>spect</td><td>8.25433</td><td>0.00095</td><td>7.42109</td><td>0.001649</td><td>1</td><td>--</td><td>hipvmag</td><td>tycho2b3</td><td>--</td><td>0.908493967979862</td><td>0.589843233586427</td><td>203.50995598125</td><td>53.7281875610262</td><td>0.0242320560948522</td><td>0.0195004249967081</td><td>1</td><td>0</td><td>0.0</td></tr>\n",
       "</table>"
      ],
      "text/plain": [
       "<Table masked=True length=1>\n",
       "    ID           ra              dec        ... raddflag wdflag dstArcSec\n",
       "   str9       float64          float64      ...  int64   int64   float64 \n",
       "--------- ---------------- ---------------- ... -------- ------ ---------\n",
       "286923464 203.510580962787 53.7285273245698 ...        1      0       0.0"
      ]
     },
     "execution_count": 5,
     "metadata": {},
     "output_type": "execute_result"
    }
   ],
   "source": [
    "s.query_TIC()"
   ]
  },
  {
   "cell_type": "code",
   "execution_count": 6,
   "metadata": {},
   "outputs": [
    {
     "data": {
      "text/plain": [
       "input                 TIC 286923464\n",
       "SPOCS                              \n",
       "KIC                                \n",
       "TIC                   TIC 286923464\n",
       "EPIC                               \n",
       "Gaia DR1                           \n",
       "Gaia DR2                           \n",
       "HD                                 \n",
       "HIP                       HIP 66192\n",
       "HR                                 \n",
       "HIC                                \n",
       "UBV                                \n",
       "SAO                                \n",
       "GEN#                               \n",
       "TYC                TYC 3850-00458-1\n",
       "2MASS       2MASS J13340254+5343426\n",
       "GJ                                 \n",
       "PPM                                \n",
       "BD                                 \n",
       "AG                                 \n",
       "GSC                                \n",
       "Ci                                 \n",
       "PLX                                \n",
       "SKY#                               \n",
       "WISEA                              \n",
       "WISE                               \n",
       "PSO                                \n",
       "ALLWISE                            \n",
       "Name: 0, dtype: object"
      ]
     },
     "execution_count": 6,
     "metadata": {},
     "output_type": "execute_result"
    }
   ],
   "source": [
    "s.IDs.iloc[0]"
   ]
  },
  {
   "cell_type": "code",
   "execution_count": null,
   "metadata": {},
   "outputs": [],
   "source": [
    "len(s.TIC['KIC'])"
   ]
  },
  {
   "cell_type": "code",
   "execution_count": null,
   "metadata": {},
   "outputs": [],
   "source": [
    "from astroquery.mast import Catalogs\n",
    "ticjob = Catalogs.query_object(objectname='TIC 286923464', catalog='TIC', objType='STAR', radius = 10.0*u.arcsec)"
   ]
  },
  {
   "cell_type": "code",
   "execution_count": null,
   "metadata": {},
   "outputs": [],
   "source": [
    "ticjob.add_row(ticjob[0])"
   ]
  },
  {
   "cell_type": "code",
   "execution_count": null,
   "metadata": {},
   "outputs": [],
   "source": [
    "odx = ticjob['ID'] == str(286923464)"
   ]
  },
  {
   "cell_type": "code",
   "execution_count": null,
   "metadata": {},
   "outputs": [],
   "source": [
    "ticjob[odx]"
   ]
  },
  {
   "cell_type": "code",
   "execution_count": null,
   "metadata": {},
   "outputs": [],
   "source": [
    "ticjob = Catalogs.query_object(objectname='GAIA 1560420854826284928', catalog='TIC', objType='STAR', radius = 10.0*u.arcsec)"
   ]
  },
  {
   "cell_type": "code",
   "execution_count": null,
   "metadata": {},
   "outputs": [],
   "source": [
    "ticjob"
   ]
  },
  {
   "cell_type": "code",
   "execution_count": null,
   "metadata": {},
   "outputs": [],
   "source": [
    "#SDDS, ALLWISE, GAIA, KIC"
   ]
  },
  {
   "cell_type": "code",
   "execution_count": null,
   "metadata": {},
   "outputs": [],
   "source": [
    "tbl = Table(names = ('ID',), dtype = (str,))\n"
   ]
  },
  {
   "cell_type": "code",
   "execution_count": null,
   "metadata": {},
   "outputs": [],
   "source": [
    "from astropy.table import vstack as avstack\n"
   ]
  },
  {
   "cell_type": "code",
   "execution_count": null,
   "metadata": {},
   "outputs": [],
   "source": [
    "ridx = ticjob['ID'] == str(286923464)\n",
    "tbl = avstack([tbl, ticjob[ridx][0]])"
   ]
  },
  {
   "cell_type": "code",
   "execution_count": null,
   "metadata": {},
   "outputs": [],
   "source": [
    "tbl"
   ]
  },
  {
   "cell_type": "code",
   "execution_count": null,
   "metadata": {},
   "outputs": [],
   "source": []
  }
 ],
 "metadata": {
  "kernelspec": {
   "display_name": "Python 3",
   "language": "python",
   "name": "python3"
  },
  "language_info": {
   "codemirror_mode": {
    "name": "ipython",
    "version": 3
   },
   "file_extension": ".py",
   "mimetype": "text/x-python",
   "name": "python",
   "nbconvert_exporter": "python",
   "pygments_lexer": "ipython3",
   "version": "3.7.3"
  }
 },
 "nbformat": 4,
 "nbformat_minor": 2
}
