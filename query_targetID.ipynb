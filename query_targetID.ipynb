{
 "cells": [
  {
   "cell_type": "code",
   "execution_count": 1,
   "metadata": {},
   "outputs": [],
   "source": [
    "import astropy.units as u\n",
    "import time\n",
    "from numpy import *\n",
    "import numpy as np"
   ]
  },
  {
   "cell_type": "code",
   "execution_count": 44,
   "metadata": {},
   "outputs": [],
   "source": [
    "class archives():\n",
    "     \n",
    "    def __init__(self, ID):\n",
    "        \n",
    "        if not isinstance(ID, str):\n",
    "            TypeError('ID must be a string which is resolvable by Simbad')\n",
    "            return None\n",
    "        \n",
    "        self.input_ID = ID\n",
    "        self.KIC = {'ID': None, 'entry': None}\n",
    "        self.EPIC = {'ID': None, 'entry': None}\n",
    "        self.TIC = {'ID': None, 'entry': None}\n",
    "        self.GDR2 = {'ID': None, 'entry': None}\n",
    "\n",
    "    def __call__():\n",
    "        self.query_simbad()\n",
    "        self.query_KIC()\n",
    "        self.query_TIC()\n",
    "        self.query_gaia()\n",
    "        \n",
    "    def query_simbad(self):\n",
    "        from astroquery.simbad import Simbad\n",
    "        Simbad.add_votable_fields('sptype', 'ids')\n",
    "        time.sleep(0.1) # This is to keep you from being blacklisted by Simbad servers       \n",
    "        self.simbad = {'ID': None, 'entry': None}\n",
    "        \n",
    "        try:\n",
    "            self.simbad['entry'] = Simbad.query_object(self.input_ID)\n",
    "        except Exception as ex:\n",
    "            message = \"An exception of type {0} occurred. Arguments:\\n{1!r}\".format(type(ex).__name__, ex.args)\n",
    "            print(message)\n",
    "                   \n",
    "        if not self.simbad['entry']:\n",
    "            print(f'Unable to find {self.input_ID} with Simbad')        \n",
    "        else:\n",
    "            IDS = self.simbad['entry']['IDS']\n",
    "            \n",
    "            self.simbad['ID'] = str(IDS[0]).strip(\"b'\").split('|') \n",
    "            if (len(self.simbad['ID']) == 0) or (len(self.simbad['ID']) > 40):\n",
    "                raise ValueError('Something went wrong trying to split the simbad IDS result')\n",
    "            \n",
    "            prefixes = ['Gaia DR2', 'KIC', 'EPIC', 'TIC']\n",
    "\n",
    "            dicts = [self.GDR2, self.KIC, self.EPIC, self.TIC]\n",
    "            for i, prefix in enumerate(prefixes):\n",
    "\n",
    "                tempid = [id for id in self.simbad['ID'] if prefix in id]\n",
    "                if len(tempid) == 1:\n",
    "                    dicts[i]['ID'] = tempid[0]\n",
    "                elif len(tempid) > 1:\n",
    "                    print(f'Warning: for some reason Simbad returned more than one {prefix} entry for {self.input_ID}.')\n",
    "                else:\n",
    "                    pass\n",
    "\n",
    "        return self.simbad['entry']\n",
    "        \n",
    "    def query_KIC(self, radius = 10.0*u.arcsec):\n",
    "        from astroquery.vizier import Vizier\n",
    "        time.sleep(0.1)\n",
    "        kicjob = Vizier.query_object(object_name = self.KIC['ID'], catalog = 'V/133/kic', radius = radius)\n",
    "        self.KIC['entry'] = kicjob\n",
    "        return self.KIC['ID'], self.KIC['entry']\n",
    "    \n",
    "    def query_EPIC(self, radius = 10.0*u.arcsec):\n",
    "        from astroquery.vizier import Vizier\n",
    "        time.sleep(0.1)\n",
    "        job = Vizier.query_object(object_name = self.KIC['ID'], catalog = 'IV/34/epic', radius = radius)\n",
    "        self.EPIC['entry'] = job\n",
    "        return self.EPIC['ID'], self.EPIC['entry']\n",
    "    \n",
    "    def query_TIC(self, radius = 10.0*u.arcsec):\n",
    "        from astroquery.mast import Catalogs\n",
    "        time.sleep(0.1)\n",
    "        ticjob = Catalogs.query_object(objectname=self.TIC['ID'], catalog='TIC', objType='STAR', radius = radius)\n",
    "        self.TIC['entry'] = ticjob\n",
    "        return self.TIC['ID'], self.TIC['entry']\n",
    "    \n",
    "    def query_GaiaDR2(self):\n",
    "        if not self.GDR2['ID']:\n",
    "            \n",
    "            if 'Gaia DR2' in self.input_ID:\n",
    "                self.GDR2['ID'] = self.input_ID\n",
    "            else:\n",
    "                print(f'To query the Gaia DR2 catalog, {self.input_ID} must be a valid Gaia source id.')\n",
    "                print('Try using the archives.query_simbad() method.')            \n",
    "        \n",
    "        if self.GDR2['ID']:\n",
    "            from astroquery.gaia import Gaia\n",
    "            time.sleep(0.1)\n",
    "\n",
    "            gid = int(self.GDR2['ID'].replace('Gaia DR2 ', ''))\n",
    "            adql_query = \"select * from gaiadr2.gaia_source where source_id=%i\" % (gid)\n",
    "\n",
    "            job = Gaia.launch_job(adql_query).get_results()\n",
    "            idx = np.where(job['source_id'].quantity == gid)[0][0]\n",
    "            self.GDR2['entry'] = job[idx]\n",
    "\n",
    "        return self.GDR2['ID'], self.GDR2['entry']"
   ]
  },
  {
   "cell_type": "code",
   "execution_count": 45,
   "metadata": {},
   "outputs": [],
   "source": [
    "arch = archives('EPIC 201426240')"
   ]
  },
  {
   "cell_type": "code",
   "execution_count": 46,
   "metadata": {},
   "outputs": [],
   "source": [
    "simbad = arch.query_simbad()"
   ]
  },
  {
   "cell_type": "code",
   "execution_count": 47,
   "metadata": {},
   "outputs": [],
   "source": [
    "arch.query_GaiaDR2();"
   ]
  },
  {
   "cell_type": "code",
   "execution_count": 48,
   "metadata": {},
   "outputs": [],
   "source": [
    "g = arch.GDR2['entry']"
   ]
  },
  {
   "cell_type": "code",
   "execution_count": 49,
   "metadata": {},
   "outputs": [
    {
     "data": {
      "text/plain": [
       "0.91503143"
      ]
     },
     "execution_count": 49,
     "metadata": {},
     "output_type": "execute_result"
    }
   ],
   "source": [
    "g['bp_rp']"
   ]
  },
  {
   "cell_type": "code",
   "execution_count": null,
   "metadata": {},
   "outputs": [],
   "source": [
    "cats = ['KIC', 'TIC', 'EPIC', 'Gaia DR1', 'Gaia DR2', 'HD', 'HIP', 'HR', 'TYC']"
   ]
  }
 ],
 "metadata": {
  "kernelspec": {
   "display_name": "Python 3",
   "language": "python",
   "name": "python3"
  },
  "language_info": {
   "codemirror_mode": {
    "name": "ipython",
    "version": 3
   },
   "file_extension": ".py",
   "mimetype": "text/x-python",
   "name": "python",
   "nbconvert_exporter": "python",
   "pygments_lexer": "ipython3",
   "version": "3.7.4"
  }
 },
 "nbformat": 4,
 "nbformat_minor": 2
}
