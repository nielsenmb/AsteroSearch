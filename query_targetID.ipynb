{
 "cells": [
  {
   "cell_type": "code",
   "execution_count": 116,
   "metadata": {},
   "outputs": [],
   "source": [
    "import astropy.units as u\n",
    "import time\n",
    "from numpy import *\n",
    "import numpy as np"
   ]
  },
  {
   "cell_type": "code",
   "execution_count": 128,
   "metadata": {},
   "outputs": [],
   "source": [
    "class archives():\n",
    "     \n",
    "    def __init__(self, ID):\n",
    "        \n",
    "        if not isinstance(ID, str):\n",
    "            TypeError('ID must be a string which is resolvable by Simbad')\n",
    "            return None\n",
    "        \n",
    "        self.input_ID = ID\n",
    "        self.KIC = {'ID': None, 'entry': None}\n",
    "        self.TIC = {'ID': None, 'entry': None}\n",
    "        self.GDR2 = {'ID': None, 'entry': None}\n",
    "\n",
    "    def __call__():\n",
    "        self.query_simbad()\n",
    "        self.query_KIC()\n",
    "        self.query_TIC()\n",
    "        self.query_gaia()\n",
    "        \n",
    "    def query_simbad(self):\n",
    "        from astroquery.simbad import Simbad\n",
    "        Simbad.add_votable_fields('sptype', 'ids')\n",
    "        time.sleep(0.1)        \n",
    "        self.simbad = {'ID': None, 'entry': None}\n",
    "        \n",
    "        try:\n",
    "            self.simbad['entry'] = Simbad.query_object(self.input_ID)\n",
    "        except Exception as ex:\n",
    "            message = \"An exception of type {0} occurred. Arguments:\\n{1!r}\".format(type(ex).__name__, ex.args)\n",
    "            print(message)\n",
    "                    \n",
    "        if not self.simbad['entry']:\n",
    "            print(f'Unable to find {self.input_ID} with Simbad')        \n",
    "        else:\n",
    "            IDS = self.simbad['entry']['IDS']\n",
    "            self.simbad['ID'] = str(IDS[0]).strip(\"b'\").split('|') # should check for length\n",
    "            \n",
    "            prefixes = ['Gaia DR2', 'KIC']\n",
    "            \n",
    "            dicts = [self.GDR2, self.KIC]\n",
    "            for i, prefix in enumerate(prefixes):\n",
    "                tempid = [id for id in self.simbad['ID'] if prefix in id]\n",
    "                if len(tempid) == 0:\n",
    "                    print(f'Unable to resolve {prefix} ID for {self.input_ID} with Simbad')\n",
    "                elif len(tempid) > 1:\n",
    "                    print(f'Warning: for some reason Simbad returned more than one {prefix} entry for {self.input_ID}.')\n",
    "                else:\n",
    "                    dicts[i]['ID'] = tempid[0]\n",
    "\n",
    "        return self.simbad['entry']\n",
    "        \n",
    "    def query_KIC(self, radius = 10.0*u.arcsec):\n",
    "        from astroquery.vizier import Vizier\n",
    "        time.sleep(0.1)\n",
    "        \n",
    "        \n",
    "        kicjob = Vizier.query_object(object_name = self.KIC['ID'], catalog = 'V/133/kic', radius = radius)\n",
    "        \n",
    "        self.KIC['entry'] = kicjob\n",
    "        return self.KIC['ID'], self.KIC['entry']\n",
    "    \n",
    "    def query_TIC(self, radius = 10.0*u.arcsec):\n",
    "        from astroquery.mast import Catalogs\n",
    "        time.sleep(0.1)\n",
    "        \n",
    "        \n",
    "        ticjob = Catalogs.query_object(objectname=self.TIC['ID'], catalog='TIC', objType='STAR', radius = radius)\n",
    "        \n",
    "        self.TIC['entry'] = ticjob\n",
    "        return self.TIC['ID'], self.TIC['entry']\n",
    "    \n",
    "    def query_GaiaDR2(self):\n",
    "        if not self.GDR2['ID']:\n",
    "            \n",
    "            if 'Gaia DR2' in self.input_ID:\n",
    "                self.GDR2['ID'] = self.input_ID\n",
    "            else:\n",
    "                print(f'To query the Gaia DR2 catalog, {self.input_ID} must be a valid Gaia source id.')\n",
    "                print('Try using the archives.query_simbad() method.')            \n",
    "        \n",
    "        if self.GDR2['ID']:\n",
    "            from astroquery.gaia import Gaia\n",
    "            time.sleep(0.1)\n",
    "\n",
    "            gid = int(self.GDR2['ID'].replace('Gaia DR2 ', ''))\n",
    "            adql_query = \"select * from gaiadr2.gaia_source where source_id=%i\" % (gid)\n",
    "\n",
    "            job = Gaia.launch_job(adql_query).get_results()\n",
    "            idx = np.where(job['source_id'].quantity == gid)[0][0]\n",
    "            self.GDR2['entry'] = job[idx]\n",
    "\n",
    "        return self.GDR2['ID'], self.GDR2['entry']\n",
    "    \n"
   ]
  },
  {
   "cell_type": "code",
   "execution_count": 129,
   "metadata": {},
   "outputs": [],
   "source": [
    "arch = archives('KIC8006161')"
   ]
  },
  {
   "cell_type": "code",
   "execution_count": 130,
   "metadata": {},
   "outputs": [],
   "source": [
    "simbad = arch.query_simbad()"
   ]
  },
  {
   "cell_type": "code",
   "execution_count": 131,
   "metadata": {},
   "outputs": [],
   "source": [
    "arch.query_GaiaDR2();"
   ]
  },
  {
   "cell_type": "code",
   "execution_count": 133,
   "metadata": {},
   "outputs": [],
   "source": [
    "g = arch.GDR2['entry']"
   ]
  },
  {
   "cell_type": "code",
   "execution_count": 134,
   "metadata": {},
   "outputs": [
    {
     "data": {
      "text/plain": [
       "0.98118925"
      ]
     },
     "execution_count": 134,
     "metadata": {},
     "output_type": "execute_result"
    }
   ],
   "source": [
    "g['bp_rp']"
   ]
  },
  {
   "cell_type": "code",
   "execution_count": 72,
   "metadata": {},
   "outputs": [],
   "source": [
    "gid = int(arch.gaia['ID'].replace('Gaia DR2 ', ''))\n",
    "adql_query = \"select * from gaiadr2.gaia_source where source_id=%i\" % (gid)"
   ]
  },
  {
   "cell_type": "code",
   "execution_count": 74,
   "metadata": {},
   "outputs": [],
   "source": [
    "from astroquery.gaia import Gaia\n",
    "\n",
    "gaiajob = Gaia.launch_job(adql_query)"
   ]
  },
  {
   "cell_type": "code",
   "execution_count": 86,
   "metadata": {},
   "outputs": [],
   "source": [
    "res = gaiajob.get_results()"
   ]
  },
  {
   "cell_type": "code",
   "execution_count": 89,
   "metadata": {},
   "outputs": [],
   "source": [
    "idx = res['source_id'].quantity == gid"
   ]
  },
  {
   "cell_type": "code",
   "execution_count": 95,
   "metadata": {},
   "outputs": [],
   "source": []
  },
  {
   "cell_type": "code",
   "execution_count": null,
   "metadata": {},
   "outputs": [],
   "source": [
    "cats = ['KIC', 'TIC', 'EPIC', 'Gaia DR1', 'Gaia DR2', 'HD', 'HIP', 'HR', 'TYC']"
   ]
  },
  {
   "cell_type": "code",
   "execution_count": null,
   "metadata": {},
   "outputs": [],
   "source": [
    "access_archives('HD16417')"
   ]
  },
  {
   "cell_type": "markdown",
   "metadata": {},
   "source": [
    "if 'KIC' in ID\n",
    " format anf add to dict\n",
    "capitalized\n",
    "kiclike\n",
    "ticlike\n",
    "epiclike\n",
    "if Gaia DR2 in ID\n",
    " format and add to dict\n",
    "\n",
    "Simbad first\n",
    "\n",
    "loop through dict and access MAST, TIC, KIC, Simbad, Gaia Archive\n",
    "\n",
    "HD, HIP, HR"
   ]
  },
  {
   "cell_type": "code",
   "execution_count": null,
   "metadata": {},
   "outputs": [],
   "source": [
    "Q.to_pandas()"
   ]
  },
  {
   "cell_type": "code",
   "execution_count": null,
   "metadata": {},
   "outputs": [],
   "source": [
    "IDs = str(Q['IDS'][0])"
   ]
  },
  {
   "cell_type": "code",
   "execution_count": null,
   "metadata": {},
   "outputs": [],
   "source": [
    "idx = IDs.index('Gaia DR2')"
   ]
  },
  {
   "cell_type": "code",
   "execution_count": null,
   "metadata": {},
   "outputs": [],
   "source": [
    "IDs = IDs[idx:].replace(\"'\", '').replace('Gaia DR2','').strip(' ')"
   ]
  },
  {
   "cell_type": "code",
   "execution_count": null,
   "metadata": {},
   "outputs": [],
   "source": [
    "IDs"
   ]
  },
  {
   "cell_type": "code",
   "execution_count": null,
   "metadata": {},
   "outputs": [],
   "source": [
    "from astroquery.gaia import Gaia\n",
    "job = Gaia.launch_job(\"select * from gaiadr2.gaia_source where source_id=%i\" % (int(IDs)))"
   ]
  },
  {
   "cell_type": "code",
   "execution_count": null,
   "metadata": {},
   "outputs": [],
   "source": [
    "tab = job.get_results()#.to_pandas()"
   ]
  },
  {
   "cell_type": "code",
   "execution_count": null,
   "metadata": {},
   "outputs": [],
   "source": [
    "int(tab['source_id'].quantity) #== int(IDs)"
   ]
  },
  {
   "cell_type": "code",
   "execution_count": 23,
   "metadata": {},
   "outputs": [],
   "source": [
    "a = '/home/nielsemb/work/bla.txt'\n",
    "b = '/home/nielsemb/work/'\n",
    "import os"
   ]
  },
  {
   "cell_type": "code",
   "execution_count": 24,
   "metadata": {},
   "outputs": [
    {
     "data": {
      "text/plain": [
       "'/home/nielsemb/work/bla.txt'"
      ]
     },
     "execution_count": 24,
     "metadata": {},
     "output_type": "execute_result"
    }
   ],
   "source": [
    "os.path.join(*[b,a])"
   ]
  },
  {
   "cell_type": "code",
   "execution_count": 44,
   "metadata": {},
   "outputs": [
    {
     "data": {
      "text/plain": [
       "'bla'"
      ]
     },
     "execution_count": 44,
     "metadata": {},
     "output_type": "execute_result"
    }
   ],
   "source": [
    "'{0}'.format(r'bla','bli')"
   ]
  },
  {
   "cell_type": "code",
   "execution_count": 46,
   "metadata": {},
   "outputs": [
    {
     "data": {
      "text/plain": [
       "2.302585092994046"
      ]
     },
     "execution_count": 46,
     "metadata": {},
     "output_type": "execute_result"
    }
   ],
   "source": [
    "import numpy as np\n",
    "np.log(10.0)"
   ]
  },
  {
   "cell_type": "code",
   "execution_count": 71,
   "metadata": {},
   "outputs": [],
   "source": [
    "class star():\n",
    "    def __call__(self):\n",
    "        print('Star has been called')\n",
    "    def __init__(self):\n",
    "        self.b = 0\n",
    "        self.c = self\n",
    "    "
   ]
  },
  {
   "cell_type": "code",
   "execution_count": 72,
   "metadata": {},
   "outputs": [],
   "source": [
    "a = star()"
   ]
  },
  {
   "cell_type": "code",
   "execution_count": 73,
   "metadata": {},
   "outputs": [
    {
     "data": {
      "text/plain": [
       "{'b': 0, 'c': <__main__.star at 0x7f44fc1b8b70>}"
      ]
     },
     "execution_count": 73,
     "metadata": {},
     "output_type": "execute_result"
    }
   ],
   "source": [
    "vars(a)"
   ]
  },
  {
   "cell_type": "code",
   "execution_count": 74,
   "metadata": {},
   "outputs": [
    {
     "name": "stdout",
     "output_type": "stream",
     "text": [
      "Star has been called\n"
     ]
    }
   ],
   "source": [
    "a.c()"
   ]
  },
  {
   "cell_type": "code",
   "execution_count": 75,
   "metadata": {},
   "outputs": [
    {
     "data": {
      "text/plain": [
       "True"
      ]
     },
     "execution_count": 75,
     "metadata": {},
     "output_type": "execute_result"
    }
   ],
   "source": [
    "hasattr(a, 'c')"
   ]
  },
  {
   "cell_type": "code",
   "execution_count": 78,
   "metadata": {},
   "outputs": [
    {
     "data": {
      "text/plain": [
       "array([-50, -49, -48, -47, -46, -45, -44, -43, -42, -41, -40, -39, -38,\n",
       "       -37, -36, -35, -34, -33, -32, -31, -30, -29, -28, -27, -26, -25,\n",
       "       -24, -23, -22, -21, -20, -19, -18, -17, -16, -15, -14, -13, -12,\n",
       "       -11, -10,  -9,  -8,  -7,  -6,  -5,  -4,  -3,  -2,  -1])"
      ]
     },
     "execution_count": 78,
     "metadata": {},
     "output_type": "execute_result"
    }
   ],
   "source": [
    "np.arange(-50,0)"
   ]
  }
 ],
 "metadata": {
  "kernelspec": {
   "display_name": "Python 3",
   "language": "python",
   "name": "python3"
  },
  "language_info": {
   "codemirror_mode": {
    "name": "ipython",
    "version": 3
   },
   "file_extension": ".py",
   "mimetype": "text/x-python",
   "name": "python",
   "nbconvert_exporter": "python",
   "pygments_lexer": "ipython3",
   "version": "3.7.3"
  }
 },
 "nbformat": 4,
 "nbformat_minor": 2
}
