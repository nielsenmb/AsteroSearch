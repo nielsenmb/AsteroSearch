{
 "cells": [
  {
   "cell_type": "code",
   "execution_count": 10,
   "metadata": {},
   "outputs": [],
   "source": [
    "from astroquery.simbad import Simbad\n",
    "Simbad.add_votable_fields('sptype', 'ids')"
   ]
  },
  {
   "cell_type": "code",
   "execution_count": null,
   "metadata": {},
   "outputs": [],
   "source": [
    "def access_archives(ID):\n",
    "    \n",
    "    job_simbad = Simbad.query_object('KIC 11145123')\n",
    "    \n",
    "    if DR2 in ID:\n",
    "        DR2_ID = ID"
   ]
  },
  {
   "cell_type": "code",
   "execution_count": 11,
   "metadata": {},
   "outputs": [],
   "source": []
  },
  {
   "cell_type": "code",
   "execution_count": 13,
   "metadata": {},
   "outputs": [
    {
     "data": {
      "text/html": [
       "<div>\n",
       "<style scoped>\n",
       "    .dataframe tbody tr th:only-of-type {\n",
       "        vertical-align: middle;\n",
       "    }\n",
       "\n",
       "    .dataframe tbody tr th {\n",
       "        vertical-align: top;\n",
       "    }\n",
       "\n",
       "    .dataframe thead th {\n",
       "        text-align: right;\n",
       "    }\n",
       "</style>\n",
       "<table border=\"1\" class=\"dataframe\">\n",
       "  <thead>\n",
       "    <tr style=\"text-align: right;\">\n",
       "      <th></th>\n",
       "      <th>MAIN_ID</th>\n",
       "      <th>RA</th>\n",
       "      <th>DEC</th>\n",
       "      <th>RA_PREC</th>\n",
       "      <th>DEC_PREC</th>\n",
       "      <th>COO_ERR_MAJA</th>\n",
       "      <th>COO_ERR_MINA</th>\n",
       "      <th>COO_ERR_ANGLE</th>\n",
       "      <th>COO_QUAL</th>\n",
       "      <th>COO_WAVELENGTH</th>\n",
       "      <th>COO_BIBCODE</th>\n",
       "      <th>FLUX_V</th>\n",
       "      <th>SP_TYPE</th>\n",
       "      <th>SP_QUAL</th>\n",
       "      <th>SP_BIBCODE</th>\n",
       "      <th>IDS</th>\n",
       "      <th>SP_TYPE_2</th>\n",
       "      <th>SP_QUAL_2</th>\n",
       "      <th>SP_BIBCODE_2</th>\n",
       "      <th>IDS_2</th>\n",
       "    </tr>\n",
       "  </thead>\n",
       "  <tbody>\n",
       "    <tr>\n",
       "      <th>0</th>\n",
       "      <td>b'KIC 11145123'</td>\n",
       "      <td>19 41 25.3412</td>\n",
       "      <td>+48 45 14.989</td>\n",
       "      <td>14</td>\n",
       "      <td>14</td>\n",
       "      <td>0.0216</td>\n",
       "      <td>0.0213</td>\n",
       "      <td>90</td>\n",
       "      <td>A</td>\n",
       "      <td>O</td>\n",
       "      <td>b'2018yCat.1345....0G'</td>\n",
       "      <td>NaN</td>\n",
       "      <td>b'A'</td>\n",
       "      <td>D</td>\n",
       "      <td>b'2014A&amp;A...570A...8P'</td>\n",
       "      <td>b'KIC 11145123|2MASS J19412534+4845150|Gaia DR...</td>\n",
       "      <td>b'A'</td>\n",
       "      <td>D</td>\n",
       "      <td>b'2014A&amp;A...570A...8P'</td>\n",
       "      <td>b'KIC 11145123|2MASS J19412534+4845150|Gaia DR...</td>\n",
       "    </tr>\n",
       "  </tbody>\n",
       "</table>\n",
       "</div>"
      ],
      "text/plain": [
       "           MAIN_ID             RA            DEC  RA_PREC  DEC_PREC  \\\n",
       "0  b'KIC 11145123'  19 41 25.3412  +48 45 14.989       14        14   \n",
       "\n",
       "   COO_ERR_MAJA  COO_ERR_MINA  COO_ERR_ANGLE COO_QUAL COO_WAVELENGTH  \\\n",
       "0        0.0216        0.0213             90        A              O   \n",
       "\n",
       "              COO_BIBCODE  FLUX_V SP_TYPE SP_QUAL              SP_BIBCODE  \\\n",
       "0  b'2018yCat.1345....0G'     NaN    b'A'       D  b'2014A&A...570A...8P'   \n",
       "\n",
       "                                                 IDS SP_TYPE_2 SP_QUAL_2  \\\n",
       "0  b'KIC 11145123|2MASS J19412534+4845150|Gaia DR...      b'A'         D   \n",
       "\n",
       "             SP_BIBCODE_2                                              IDS_2  \n",
       "0  b'2014A&A...570A...8P'  b'KIC 11145123|2MASS J19412534+4845150|Gaia DR...  "
      ]
     },
     "execution_count": 13,
     "metadata": {},
     "output_type": "execute_result"
    }
   ],
   "source": [
    "Q.to_pandas()"
   ]
  },
  {
   "cell_type": "code",
   "execution_count": 26,
   "metadata": {},
   "outputs": [],
   "source": [
    "IDs = str(Q['IDS'][0])"
   ]
  },
  {
   "cell_type": "code",
   "execution_count": 27,
   "metadata": {},
   "outputs": [],
   "source": [
    "idx = IDs.index('Gaia DR2')"
   ]
  },
  {
   "cell_type": "code",
   "execution_count": 28,
   "metadata": {},
   "outputs": [],
   "source": [
    "IDs = IDs[idx:].replace(\"'\", '').replace('Gaia DR2','').strip(' ')"
   ]
  },
  {
   "cell_type": "code",
   "execution_count": 29,
   "metadata": {},
   "outputs": [
    {
     "data": {
      "text/plain": [
       "'2134738697628000512'"
      ]
     },
     "execution_count": 29,
     "metadata": {},
     "output_type": "execute_result"
    }
   ],
   "source": [
    "IDs"
   ]
  },
  {
   "cell_type": "code",
   "execution_count": 43,
   "metadata": {},
   "outputs": [],
   "source": [
    "from astroquery.gaia import Gaia\n",
    "job = Gaia.launch_job(\"select * from gaiadr2.gaia_source where source_id=%i\" % (int(IDs)))"
   ]
  },
  {
   "cell_type": "code",
   "execution_count": 51,
   "metadata": {},
   "outputs": [],
   "source": [
    "tab = job.get_results()#.to_pandas()"
   ]
  },
  {
   "cell_type": "code",
   "execution_count": 58,
   "metadata": {},
   "outputs": [
    {
     "data": {
      "text/plain": [
       "astropy.units.quantity.Quantity"
      ]
     },
     "execution_count": 58,
     "metadata": {},
     "output_type": "execute_result"
    }
   ],
   "source": [
    "int(tab['source_id'].quantity) #== int(IDs)"
   ]
  },
  {
   "cell_type": "code",
   "execution_count": 42,
   "metadata": {},
   "outputs": [
    {
     "name": "stdout",
     "output_type": "stream",
     "text": [
      "<Table masked=True length=1>\n",
      "              name                dtype       unit                                          description                                      n_bad\n",
      "-------------------------------- ------- ------------- ------------------------------------------------------------------------------------- -----\n",
      "                     solution_id   int64                                                                                 Solution Identifier     0\n",
      "                     designation  object                                         Unique source designation (unique across all Data Releases)     0\n",
      "                       source_id   int64                                  Unique source identifier (unique within a particular Data Release)     0\n",
      "                    random_index   int64                                                                 Random index used to select subsets     0\n",
      "                       ref_epoch float64            yr                                                                       Reference epoch     0\n",
      "                              ra float64           deg                                                                       Right ascension     0\n",
      "                        ra_error float64           mas                                                     Standard error of right ascension     0\n",
      "                             dec float64           deg                                                                           Declination     0\n",
      "                       dec_error float64           mas                                                         Standard error of declination     0\n",
      "                        parallax float64           mas                                                                              Parallax     0\n",
      "                  parallax_error float64           mas                                                            Standard error of parallax     0\n",
      "             parallax_over_error float32                                                                       Parallax divided by its error     0\n",
      "                            pmra float64      mas / yr                                            Proper motion in right ascension direction     0\n",
      "                      pmra_error float64      mas / yr                          Standard error of proper motion in right ascension direction     0\n",
      "                           pmdec float64      mas / yr                                                Proper motion in declination direction     0\n",
      "                     pmdec_error float64      mas / yr                              Standard error of proper motion in declination direction     0\n",
      "                     ra_dec_corr float32                                                 Correlation between right ascension and declination     0\n",
      "                ra_parallax_corr float32                                                    Correlation between right ascension and parallax     0\n",
      "                    ra_pmra_corr float32                            Correlation between right ascension and proper motion in right ascension     0\n",
      "                   ra_pmdec_corr float32                                Correlation between right ascension and proper motion in declination     0\n",
      "               dec_parallax_corr float32                                                        Correlation between declination and parallax     0\n",
      "                   dec_pmra_corr float32                                Correlation between declination and proper motion in right ascension     0\n",
      "                  dec_pmdec_corr float32                                    Correlation between declination and proper motion in declination     0\n",
      "              parallax_pmra_corr float32                                   Correlation between parallax and proper motion in right ascension     0\n",
      "             parallax_pmdec_corr float32                                       Correlation between parallax and proper motion in declination     0\n",
      "                 pmra_pmdec_corr float32               Correlation between proper motion in right ascension and proper motion in declination     0\n",
      "            astrometric_n_obs_al   int32                                                                     Total number of observations AL     0\n",
      "            astrometric_n_obs_ac   int32                                                                     Total number of observations AC     0\n",
      "       astrometric_n_good_obs_al   int32                                                                      Number of good observations AL     0\n",
      "        astrometric_n_bad_obs_al   int32                                                                       Number of bad observations AL     0\n",
      "              astrometric_gof_al float32                                      Goodness of fit statistic of model wrt along-scan observations     0\n",
      "             astrometric_chi2_al float32                                                                                 AL chi-square value     0\n",
      "        astrometric_excess_noise float64           mas                                                            Excess noise of the source     0\n",
      "    astrometric_excess_noise_sig float64                                                                        Significance of excess noise     0\n",
      "       astrometric_params_solved   int16                                                              Which parameters have been solved for?     0\n",
      "        astrometric_primary_flag    bool                                                                                 Primary or seconday     0\n",
      "           astrometric_weight_al float32      1 / mas2                                                 Mean astrometric weight of the source     0\n",
      "       astrometric_pseudo_colour float64        1 / um                                 Astrometrically determined pseudocolour of the source     0\n",
      " astrometric_pseudo_colour_error float64        1 / um                                      Standard error of the pseudocolour of the source     0\n",
      "            mean_varpi_factor_al float32                                                                             Mean Parallax factor AL     0\n",
      "astrometric_matched_observations   int16                                                      Matched FOV transits used in the AGIS solution     0\n",
      "         visibility_periods_used   int16                                           Number of visibility periods used in Astrometric solution     0\n",
      "         astrometric_sigma5d_max float32           mas                                The longest semi-major axis of the 5-d error ellipsoid     0\n",
      "       frame_rotator_object_type   int32                                               The type of the source mainly used for frame rotation     0\n",
      "            matched_observations   int16                                                       Amount of observations matched to this source     0\n",
      "               duplicated_source    bool                                                                       Source with duplicate sources     0\n",
      "                    phot_g_n_obs   int32                                                 Number of observations contributing to G photometry     0\n",
      "                phot_g_mean_flux float64  electron / s                                                                      G-band mean flux     0\n",
      "          phot_g_mean_flux_error float64  electron / s                                                             Error on G-band mean flux     0\n",
      "     phot_g_mean_flux_over_error float32                                                               G-band mean flux divided by its error     0\n",
      "                 phot_g_mean_mag float32           mag                                                                 G-band mean magnitude     0\n",
      "                   phot_bp_n_obs   int32                                                Number of observations contributing to BP photometry     0\n",
      "               phot_bp_mean_flux float64  electron / s                                                               Integrated BP mean flux     0\n",
      "         phot_bp_mean_flux_error float64  electron / s                                                  Error on the integrated BP mean flux     0\n",
      "    phot_bp_mean_flux_over_error float32                                                        Integrated BP mean flux divided by its error     0\n",
      "                phot_bp_mean_mag float32           mag                                                          Integrated BP mean magnitude     0\n",
      "                   phot_rp_n_obs   int32                                                Number of observations contributing to RP photometry     0\n",
      "               phot_rp_mean_flux float64  electron / s                                                               Integrated RP mean flux     0\n",
      "         phot_rp_mean_flux_error float64  electron / s                                                  Error on the integrated RP mean flux     0\n",
      "    phot_rp_mean_flux_over_error float32                                                        Integrated RP mean flux divided by its error     0\n",
      "                phot_rp_mean_mag float32           mag                                                          Integrated RP mean magnitude     0\n",
      "        phot_bp_rp_excess_factor float32                                                                                 BP/RP excess factor     0\n",
      "                  phot_proc_mode   int16                                                                          Photometry processing mode     0\n",
      "                           bp_rp float32           mag                                                                        BP - RP colour     0\n",
      "                            bp_g float32           mag                                                                         BP - G colour     0\n",
      "                            g_rp float32           mag                                                                         G - RP colour     0\n",
      "                 radial_velocity float64        km / s                                                                       Radial velocity     1\n",
      "           radial_velocity_error float64        km / s                                                                 Radial velocity error     1\n",
      "                  rv_nb_transits   int32                                                  Number of transits used to compute radial velocity     0\n",
      "                rv_template_teff float32             K                                  Teff of the template used to compute radial velocity     1\n",
      "                rv_template_logg float32 log(cm.s**-2)                                  logg of the template used to compute radial velocity     1\n",
      "                rv_template_fe_h float32           dex                                  Fe/H of the template used to compute radial velocity     1\n",
      "              phot_variable_flag  object                                                                        Photometric variability flag     0\n",
      "                               l float64           deg                                                                    Galactic longitude     0\n",
      "                               b float64           deg                                                                     Galactic latitude     0\n",
      "                         ecl_lon float64           deg                                                                    Ecliptic longitude     0\n",
      "                         ecl_lat float64           deg                                                                     Ecliptic latitude     0\n",
      "                     priam_flags   int64                                                                   flags for the Apsis-Priam results     0\n",
      "                        teff_val float32             K                                                         stellar effective temperature     0\n",
      "           teff_percentile_lower float32             K                                                             teffVal lower uncertainty     0\n",
      "           teff_percentile_upper float32             K                                                             teffVal upper uncertainty     0\n",
      "                         a_g_val float32           mag                                          line-of-sight extinction in the G band, A_G)     0\n",
      "            a_g_percentile_lower float32           mag                                                               aGVal lower uncertainty     0\n",
      "            a_g_percentile_upper float32           mag                                                               aGVal upper uncertainty     0\n",
      "                 e_bp_min_rp_val float32           mag                                                      line-of-sight reddening E(BP-RP)     0\n",
      "    e_bp_min_rp_percentile_lower float32           mag                                                         eBPminRPVal lower uncertainty     0\n",
      "    e_bp_min_rp_percentile_upper float32           mag                                                         eBPminRPVal upper uncertainty     0\n",
      "                     flame_flags   int64                                                                   Flags for the Apsis-FLAME results     0\n",
      "                      radius_val float32          Rsun                                                                        stellar radius     0\n",
      "         radius_percentile_lower float32          Rsun                                                           radiusVal lower uncertainty     0\n",
      "         radius_percentile_upper float32          Rsun                                                           radiusVal upper uncertainty     0\n",
      "                         lum_val float32          Lsun                                                                    stellar luminosity     0\n",
      "            lum_percentile_lower float32          Lsun                                                              lumVal lower uncertainty     0\n",
      "            lum_percentile_upper float32          Lsun                                                              lumVal upper uncertainty     0\n",
      "                    datalink_url  object                                                                                        datalink url     0\n",
      "            epoch_photometry_url  object                                                                                epoch photometry url     1\n",
      "Jobid: None\n",
      "Phase: COMPLETED\n",
      "Owner: None\n",
      "Output file: sync_20190826025120.xml.gz\n",
      "Results: None\n"
     ]
    }
   ],
   "source": [
    "print(job)"
   ]
  },
  {
   "cell_type": "code",
   "execution_count": null,
   "metadata": {},
   "outputs": [],
   "source": []
  }
 ],
 "metadata": {
  "kernelspec": {
   "display_name": "Python 3",
   "language": "python",
   "name": "python3"
  },
  "language_info": {
   "codemirror_mode": {
    "name": "ipython",
    "version": 3
   },
   "file_extension": ".py",
   "mimetype": "text/x-python",
   "name": "python",
   "nbconvert_exporter": "python",
   "pygments_lexer": "ipython3",
   "version": "3.7.3"
  }
 },
 "nbformat": 4,
 "nbformat_minor": 2
}
